{
 "cells": [
  {
   "cell_type": "code",
   "execution_count": 1,
   "metadata": {},
   "outputs": [
    {
     "name": "stdout",
     "output_type": "stream",
     "text": [
      "Collecting surprise\n",
      "  Downloading surprise-0.1-py2.py3-none-any.whl (1.8 kB)\n",
      "Collecting scikit-surprise\n",
      "  Downloading scikit-surprise-1.1.3.tar.gz (771 kB)\n",
      "     -------------------------------------- 772.0/772.0 kB 9.8 MB/s eta 0:00:00\n",
      "  Preparing metadata (setup.py): started\n",
      "  Preparing metadata (setup.py): finished with status 'done'\n",
      "Requirement already satisfied: joblib>=1.0.0 in c:\\users\\hcoli\\appdata\\local\\packages\\pythonsoftwarefoundation.python.3.10_qbz5n2kfra8p0\\localcache\\local-packages\\python310\\site-packages (from scikit-surprise->surprise) (1.2.0)\n",
      "Requirement already satisfied: numpy>=1.17.3 in c:\\users\\hcoli\\appdata\\local\\packages\\pythonsoftwarefoundation.python.3.10_qbz5n2kfra8p0\\localcache\\local-packages\\python310\\site-packages (from scikit-surprise->surprise) (1.23.4)\n",
      "Requirement already satisfied: scipy>=1.3.2 in c:\\users\\hcoli\\appdata\\local\\packages\\pythonsoftwarefoundation.python.3.10_qbz5n2kfra8p0\\localcache\\local-packages\\python310\\site-packages (from scikit-surprise->surprise) (1.9.2)\n",
      "Installing collected packages: scikit-surprise, surprise\n",
      "  Running setup.py install for scikit-surprise: started\n",
      "  Running setup.py install for scikit-surprise: finished with status 'done'\n",
      "Successfully installed scikit-surprise-1.1.3 surprise-0.1\n",
      "Note: you may need to restart the kernel to use updated packages.\n"
     ]
    },
    {
     "name": "stderr",
     "output_type": "stream",
     "text": [
      "  DEPRECATION: scikit-surprise is being installed using the legacy 'setup.py install' method, because it does not have a 'pyproject.toml' and the 'wheel' package is not installed. pip 23.1 will enforce this behaviour change. A possible replacement is to enable the '--use-pep517' option. Discussion can be found at https://github.com/pypa/pip/issues/8559\n",
      "\n",
      "[notice] A new release of pip available: 22.3 -> 22.3.1\n",
      "[notice] To update, run: C:\\Users\\Hcoli\\AppData\\Local\\Microsoft\\WindowsApps\\PythonSoftwareFoundation.Python.3.10_qbz5n2kfra8p0\\python.exe -m pip install --upgrade pip\n"
     ]
    }
   ],
   "source": [
    "%pip install surprise"
   ]
  },
  {
   "cell_type": "code",
   "execution_count": 3,
   "metadata": {},
   "outputs": [],
   "source": [
    "from surprise.model_selection import GridSearchCV, cross_validate\n",
    "from surprise import Dataset, NMF\n",
    "import numpy as np"
   ]
  },
  {
   "cell_type": "code",
   "execution_count": 7,
   "metadata": {},
   "outputs": [
    {
     "name": "stdout",
     "output_type": "stream",
     "text": [
      "4.300627109814924\n",
      "{'n_factors': 4, 'n_epochs': 30, 'biased': True, 'reg_pu': 0.1, 'reg_qi': 0.05}\n"
     ]
    }
   ],
   "source": [
    "data = Dataset.load_builtin(name = \"jester\", )\n",
    "param_grid = {\"n_factors\": range(4, 30, 10), \"n_epochs\": range(30, 50, 10), \"biased\" : [True, False], \"reg_pu\": np.arange(0.05, 0.15, 0.05), \"reg_qi\" : np.arange(0.05, 0.15, 0.05)}\n",
    "gs = GridSearchCV(NMF, param_grid, measures=['rmse'], cv=5)\n",
    "gs.fit(data)\n",
    "\n",
    "print(gs.best_score['rmse'])\n",
    "\n",
    "print(gs.best_params['rmse'])"
   ]
  },
  {
   "cell_type": "markdown",
   "metadata": {},
   "source": [
    "PROJECT SUMMARY\n",
    "\n",
    "In this project, we used the Surprise library to create a joke recommendation system. We used the jester dataset that's available in the Surprise library which consists of 6.5 million anonymous ratings of jokes from over 70,000 users. We first performed 5 fold cross validation to tune our hyperparameters. We chose 5 hyperparameters to tune: the number of latent dimensions in our model, the number of epochs used for SGD, whether or not our model should use biases, and regularization parameters for pu, which represents the user's preferences, and qi, which represents the characteristics of the joke. \n",
    "\n",
    "The number of latent dimensions is the dimension of the space that the vectors pu and qi live in. We found that the optimal number of dimensions found by the model was only 4, our lowest value, which is really interesting. We're kind of curious to know what attributes the model ended up choosing.\n",
    "\n",
    "The number of epochs used is the number of passes over the training set that the algorithm makes in updating the weight vector. If the number of epochs is too large, then it's possible that the model might overfit on the data. Additionally, it's possible that the weight vector converges to a local minimum well before the total number of epochs is reached and so any additional iterations might end up being unncecessary and inefficient. Cross validation showed that the optimal number of epochs was 30. This was the lowest value number of epochs that we had the model try out so it's possible that an even smaller number of epochs can be used.\n",
    "\n",
    "We thought it was interesting that one of the parameters was for whether or not the model should incorporate biasing. We weren't sure why you wouldn't want to use biasing so we kept it as a parameter to see what would happen. \n",
    "\n",
    "Finally, for the regularization parameters, we found that the best values were 0.1 for the rating vector and 0.05 for the item vector. Initially, we had wanted to sweep the regularization parameters from 0 to 1 in increments of 0.1 but found that this made cross validation take too long. So we instead had the values range from 0.05 to 0.15 since we believed that our model would likely pick optimal values close to the recommended default regularization value of 0.06. \n",
    "\n",
    "Our RMSE after tuning our parameters was roughly 4.3. Since the jester dataset has ratings going from -10 to 10, which gives a normalized RMSE of 0.215 which is a fairly reasonable result."
   ]
  }
 ],
 "metadata": {
  "kernelspec": {
   "display_name": "Python 3.10.8 64-bit (microsoft store)",
   "language": "python",
   "name": "python3"
  },
  "language_info": {
   "codemirror_mode": {
    "name": "ipython",
    "version": 3
   },
   "file_extension": ".py",
   "mimetype": "text/x-python",
   "name": "python",
   "nbconvert_exporter": "python",
   "pygments_lexer": "ipython3",
   "version": "3.10.8"
  },
  "orig_nbformat": 4,
  "vscode": {
   "interpreter": {
    "hash": "727a46c3a7188efcfd431d7033575d745715cf5c05f73771b8eba79015da05ab"
   }
  }
 },
 "nbformat": 4,
 "nbformat_minor": 2
}
